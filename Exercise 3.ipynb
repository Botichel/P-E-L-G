{
 "cells": [
  {
   "cell_type": "markdown",
   "metadata": {},
   "source": [
    "<h1>Numbers and Math</h1>\n"
   ]
  },
  {
   "cell_type": "markdown",
   "metadata": {},
   "source": [
    "In all programs different types of functions and symbols are used to perform mathematical operations, so mathematical program that facilitates the person in solving problems in a matter of seconds without any problem.\n",
    "\n",
    "Below are some basic mathematical functions to perform operations:"
   ]
  },
  {
   "cell_type": "markdown",
   "metadata": {},
   "source": [
    "• + plus\n",
    "\n",
    "• - minus\n",
    "\n",
    "• / slash\n",
    "\n",
    "• * asterisk\n",
    "\n",
    "• % percent\n",
    "\n",
    "• < less-than\n",
    "\n",
    "• > greater-than\n",
    "\n",
    "• <= less-than-equal\n",
    "\n",
    "• >= greater-than-equal\n"
   ]
  },
  {
   "cell_type": "markdown",
   "metadata": {},
   "source": [
    "Below some exercises:"
   ]
  },
  {
   "cell_type": "code",
   "execution_count": 19,
   "metadata": {},
   "outputs": [
    {
     "name": "stdout",
     "output_type": "stream",
     "text": [
      "I will now count my spicy sweets and sugary sweets:\n"
     ]
    }
   ],
   "source": [
    "print(\"I will now count my spicy sweets and sugary sweets:\")"
   ]
  },
  {
   "cell_type": "code",
   "execution_count": 13,
   "metadata": {},
   "outputs": [
    {
     "name": "stdout",
     "output_type": "stream",
     "text": [
      "spicy sweets 31.25\n"
     ]
    }
   ],
   "source": [
    "print(\"spicy sweets\", 30 + 5 / 4)"
   ]
  },
  {
   "cell_type": "code",
   "execution_count": 14,
   "metadata": {},
   "outputs": [
    {
     "name": "stdout",
     "output_type": "stream",
     "text": [
      "sugary sweets 14\n"
     ]
    }
   ],
   "source": [
    "print(\"sugary sweets\", 15 - 33 * 2 % 5)"
   ]
  },
  {
   "cell_type": "markdown",
   "metadata": {},
   "source": [
    "Others problems."
   ]
  },
  {
   "cell_type": "code",
   "execution_count": 11,
   "metadata": {},
   "outputs": [
    {
     "name": "stdout",
     "output_type": "stream",
     "text": [
      "Is it true that 3 + 2 > 5 - 7?\n"
     ]
    }
   ],
   "source": [
    "print(\"Is it true that 5 + 5 > 5 - 7?\")"
   ]
  },
  {
   "cell_type": "code",
   "execution_count": 12,
   "metadata": {},
   "outputs": [
    {
     "name": "stdout",
     "output_type": "stream",
     "text": [
      "True\n"
     ]
    }
   ],
   "source": [
    "print(5 + 5 > 5 - 7)"
   ]
  },
  {
   "cell_type": "code",
   "execution_count": 16,
   "metadata": {},
   "outputs": [
    {
     "name": "stdout",
     "output_type": "stream",
     "text": [
      "Is it greater? True\n"
     ]
    }
   ],
   "source": [
    "print(\"Is it greater?\", 7 > 4)\n"
   ]
  },
  {
   "cell_type": "code",
   "execution_count": 17,
   "metadata": {},
   "outputs": [
    {
     "name": "stdout",
     "output_type": "stream",
     "text": [
      "Is it greater or equal? True\n"
     ]
    }
   ],
   "source": [
    "print(\"Is it greater or equal?\", 8 >= 6)\n"
   ]
  },
  {
   "cell_type": "code",
   "execution_count": 18,
   "metadata": {},
   "outputs": [
    {
     "name": "stdout",
     "output_type": "stream",
     "text": [
      "Is it less or equal? False\n"
     ]
    }
   ],
   "source": [
    "print(\"Is it less or equal?\", 12 <= 7)\n"
   ]
  },
  {
   "cell_type": "markdown",
   "metadata": {},
   "source": [
    "I will now count my spicy sweets and sugary sweets:\n",
    "spicy sweets 31.25\n",
    "sugary sweets 14\n",
    "\n",
    "Is it true that 5 + 5 > 5 - 7?\n",
    "True\n",
    "What is 3 + 2? 5\n",
    "What is 5 - 7? -2\n",
    "\n",
    "How about some more.\n",
    "Is it greater? True\n",
    "Is it greater or equal? True\n",
    "Is it less or equal? False\n"
   ]
  }
 ],
 "metadata": {
  "kernelspec": {
   "display_name": "Python 3",
   "language": "python",
   "name": "python3"
  },
  "language_info": {
   "codemirror_mode": {
    "name": "ipython",
    "version": 3
   },
   "file_extension": ".py",
   "mimetype": "text/x-python",
   "name": "python",
   "nbconvert_exporter": "python",
   "pygments_lexer": "ipython3",
   "version": "3.6.7"
  }
 },
 "nbformat": 4,
 "nbformat_minor": 2
}
