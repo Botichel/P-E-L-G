{
 "cells": [
  {
   "cell_type": "markdown",
   "metadata": {},
   "source": [
    "## 6 Strings And Text"
   ]
  },
  {
   "cell_type": "markdown",
   "metadata": {},
   "source": [
    "A string is usually some text that you want to show someone or \"export\" outside of the program you are writing. Basically it is the same as when putting quotation marks when using \"print\" but in this case the text can come from another format. They can also contain any number of variables that are in the python crypt.\n",
    "\n"
   ]
  },
  {
   "cell_type": "code",
   "execution_count": 13,
   "metadata": {},
   "outputs": [
    {
     "name": "stdout",
     "output_type": "stream",
     "text": [
      "There are 3 types of language.\n",
      "Who knows English doesnt know Japanese?.\n",
      "Who Knows Japanese doesnt know Spanish?.\n",
      "Who knows Spanish doesnt know English?.\n",
      "I said: There are 3 types of language.\n",
      "Is true : 'Who knows English doesnt know Japanese?.'\n",
      "Also is true : 'Who Knows Japanese doesnt know Spanish?.'\n",
      "But Also could be true : 'Who knows Spanish doesnt know English?.'\n",
      "Aren't that questions so funny?! True\n",
      "This questions are not important.Just is important the things that says your heart<3\n"
     ]
    }
   ],
   "source": [
    "types_of_language = 3\n",
    "a = f\"There are {types_of_language} types of language.\"\n",
    "\n",
    "English = \"English\" \n",
    "Japanese = \"Japanese\"\n",
    "Spanish = \"Spanish\"\n",
    "x = f\"Who knows {English} doesnt know {Japanese}?.\"\n",
    "y = f\"Who Knows {Japanese} doesnt know {Spanish}?.\"\n",
    "o = f\"Who knows {Spanish} doesnt know {English}?.\"\n",
    "print(a)\n",
    "print(x) \n",
    "print(y)\n",
    "print(o)\n",
    "\n",
    "print(f\"I said: {a}\") \n",
    "print(f\"Is true : '{x}'\")\n",
    "print(f\"Also is true : '{y}'\")\n",
    "print(f\"But Also could be true : '{o}'\")\n",
    "\n",
    "hilarious = True\n",
    "joke_evaluation = \"Aren't that questions so funny?! {}\"\n",
    "\n",
    "print(joke_evaluation.format(hilarious))\n",
    "\n",
    "w = \"This questions are not important.\" \n",
    "e = \"Just is important the things that says your heart<3\"\n",
    "\n",
    "print(w + e)"
   ]
  },
  {
   "cell_type": "markdown",
   "metadata": {},
   "source": [
    "Is important remember that a variable es any line of code where stablish a name= equal to a value."
   ]
  },
  {
   "cell_type": "markdown",
   "metadata": {},
   "source": [
    "## 7 More Printing"
   ]
  },
  {
   "cell_type": "markdown",
   "metadata": {},
   "source": [
    "This excersise just is the same that in the excersise 6"
   ]
  },
  {
   "cell_type": "code",
   "execution_count": 20,
   "metadata": {},
   "outputs": [
    {
     "name": "stdout",
     "output_type": "stream",
     "text": [
      "Help me to tell you something.\n",
      "Is interesting theEnglish.\n",
      "but i need to say this .\n",
      "..........\n",
      "I like the probability "
     ]
    }
   ],
   "source": [
    "print(\"Help me to tell you something.\") \n",
    "print(\"Is interesting the{}.\".format('English'))\n",
    "print(\"but i need to say this .\") \n",
    "print(\".\" * 10) # what'd that do?\n",
    " \n",
    "end1 = \"I\" \n",
    "end2 = \"l\" \n",
    "end3 = \"i\" \n",
    "end4 = \"k\" \n",
    "end5 = \"e\" \n",
    "end6 = \"t\" \n",
    "end7 = \"h\" \n",
    "end8 = \"e\" \n",
    "end9 = \"p\" \n",
    "end10 = \"r\" \n",
    "end11 = \"o\"\n",
    "end12 = \"b\"\n",
    "end13 = \"a\"\n",
    "end14 = \"b\"\n",
    "end15 = \"i\"\n",
    "end16 = \"l\"\n",
    "end17 = \"i\"\n",
    "end18 = \"t\"\n",
    "end19 = \"y\"\n",
    "\n",
    "# watch that comma at the end. try removing it to see what happens \n",
    "print(end1, end=' ') \n",
    "print(end2 + end3 + end4 + end5, end=' ')\n",
    "print(end6 + end7 + end8, end= ' ')\n",
    "print(end9 + end10 + end11 + end12 + end13 + end14 + end15 + end16 + end17 + end18 + end19, end= ' ') "
   ]
  },
  {
   "cell_type": "markdown",
   "metadata": {},
   "source": [
    "## 8 Printing, Printing\n"
   ]
  },
  {
   "cell_type": "markdown",
   "metadata": {},
   "source": [
    "This is an excersise more complicated of a string."
   ]
  },
  {
   "cell_type": "code",
   "execution_count": 31,
   "metadata": {},
   "outputs": [
    {
     "name": "stdout",
     "output_type": "stream",
     "text": [
      "1 2 3 4\n",
      "one two three four\n",
      "True False False True\n",
      "Queen Guns and Roses Linkin park Kyary \n",
      "The life is very short just enjoy it dont lost your time  in unnecessary things\n"
     ]
    }
   ],
   "source": [
    "oo = \"Queen\"\n",
    "pp = \"Guns and Roses\"\n",
    "tt = \"Linkin park\"\n",
    "rr = \"Kyary \"\n",
    "print(formatter.format(1, 2, 3, 4))\n",
    "print(formatter.format(\"one\", \"two\", \"three\", \"four\")) \n",
    "print(formatter.format(True, False, False, True)) \n",
    "print(formatter.format(oo , pp, tt, rr)) \n",
    "print(formatter.format( \n",
    "\"The life is very short\", \n",
    "\"just enjoy it\", \n",
    "\"dont lost your time \", \n",
    "\"in unnecessary things\" \n",
    "))\n"
   ]
  },
  {
   "cell_type": "markdown",
   "metadata": {},
   "source": [
    "In this exercise It is experimented with something called a ”function” to turn the formatter variable into other strings. \n",
    "1. Take the formatter string defined on line 1.\n",
    "2. Call its format function, which is similar to telling it to do a command line command named format.\n",
    "3. Pass to format four arguments, which match up with the four {} in the formatter variable. This is like passing arguments to the command line command format.\n",
    "4. The result of calling format on formatter is a new string that has the {} replaced with the four variables. This is what print is now printing out.\n",
    "That’s a lot for the eighth exercise, so what I want you to do is consider this a brain teaser. It’s alright if you don’t really understand what’s going on because the rest of the book will slowly make this clear. At this point, try to study this and see what’s going on, then move on to the next exercise."
   ]
  },
  {
   "cell_type": "markdown",
   "metadata": {},
   "source": [
    "## 9 Printing, Printing, Printing"
   ]
  },
  {
   "cell_type": "code",
   "execution_count": 51,
   "metadata": {},
   "outputs": [
    {
     "name": "stdout",
     "output_type": "stream",
     "text": [
      "Here are the days of work:  Mon Wed Fri\n",
      "Here are the hours by day:  \n",
      "10 Mon\n",
      "9 Wed\n",
      "8 Fri\n",
      " \n",
      "the hours are a lot by day . \n",
      "But you just can win 1200 pesos. \n",
      "Is more than someone will win in other job. \n",
      "\n"
     ]
    }
   ],
   "source": [
    " # Here's some new strange stuff, remember type it exactly.\n",
    "work = \"Mon Wed Fri\" \n",
    "Hours = \"\\n10 Mon\\n9 Wed\\n8 Fri\"\n",
    "\n",
    "print(\"Here are the days of work: \", work) \n",
    "print(\"Here are the hours by day: \", Hours)\n",
    "\n",
    "print(\"\"\" \n",
    "the hours are a lot by day . \n",
    "But you just can win 1200 pesos. \n",
    "Is more than someone will win in other job. \n",
    "\"\"\")\n"
   ]
  },
  {
   "cell_type": "markdown",
   "metadata": {},
   "source": [
    "## 10 What was that?"
   ]
  },
  {
   "cell_type": "markdown",
   "metadata": {},
   "source": [
    "This character \\ (backslash) encodes characters that are difficult to write in a string. An important escape sequence is to escape from a single quote or a double quote. \"This is necessary so that Python doesn't get confused and ends the string, from this way you can specify that the string is not finished yet.Another way is also the use of triple quotes and also works as a string."
   ]
  },
  {
   "cell_type": "code",
   "execution_count": 64,
   "metadata": {},
   "outputs": [
    {
     "name": "stdout",
     "output_type": "stream",
     "text": [
      "Iam Spider-Man.\n",
      "No, I am spider-man.\n",
      "Iam the second spider man\n",
      " \n",
      "These are our protagonist in this crossover: \n",
      "\t* Peter Parker \n",
      "\t* Peter B. Parker\n",
      "\t* Miles Morales\n",
      "\t* Gwen Stacy\n",
      "\n",
      "Who will be the last person, how it's relationed with the spider verse?\n"
     ]
    }
   ],
   "source": [
    "PP = \"Iam Spider-Man.\" \n",
    "PBP = \"No, I am spider-man.\" \n",
    "MM = \"Iam the second spider man\"\n",
    " \n",
    "Voice = \"\"\" \n",
    "These are our protagonist in this crossover: \n",
    "\\t* Peter Parker \n",
    "\\t* Peter B. Parker\n",
    "\\t* Miles Morales\n",
    "\\t* Gwen Stacy\n",
    "\"\"\"\n",
    "Me = \"Who will be the last person, how it's relationed with the spider verse?\"\n",
    " \n",
    "print(PT) \n",
    "print(PBP) \n",
    "print(MM)\n",
    "print(Voice)\n",
    "print(Me)"
   ]
  }
 ],
 "metadata": {
  "kernelspec": {
   "display_name": "Python 3",
   "language": "python",
   "name": "python3"
  },
  "language_info": {
   "codemirror_mode": {
    "name": "ipython",
    "version": 3
   },
   "file_extension": ".py",
   "mimetype": "text/x-python",
   "name": "python",
   "nbconvert_exporter": "python",
   "pygments_lexer": "ipython3",
   "version": "3.7.4"
  }
 },
 "nbformat": 4,
 "nbformat_minor": 2
}
