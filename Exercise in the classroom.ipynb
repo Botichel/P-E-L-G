{
 "cells": [
  {
   "cell_type": "markdown",
   "metadata": {},
   "source": [
    "<h1> Exercise<h1/>"
   ]
  },
  {
   "cell_type": "code",
   "execution_count": null,
   "metadata": {},
   "outputs": [],
   "source": [
    "print(\"what is your name?\", end = ' ')\n",
    "name= input()\n",
    "print(f\"Hi, {name}\")\n",
    "age = int(input(\"How old are you?\" ))\n",
    "print(f\"You are {age}? Really?\")\n"
   ]
  },
  {
   "cell_type": "code",
   "execution_count": null,
   "metadata": {},
   "outputs": [
    {
     "name": "stdout",
     "output_type": "stream",
     "text": [
      "what is your name? "
     ]
    }
   ],
   "source": [
    "print(\"what is your name?\", end = ' ')\n",
    "name= input()\n",
    "print(f\"Hi, {name}\")\n",
    "age = int(input(\"How old are you?\" ))\n",
    "print(f\"You are {age}? Really?\")\n",
    "\n"
   ]
  },
  {
   "cell_type": "code",
   "execution_count": 3,
   "metadata": {},
   "outputs": [
    {
     "name": "stdout",
     "output_type": "stream",
     "text": [
      "what is your name? javier\n",
      "Hi, javier\n",
      "How old are you?20\n",
      "You are 20? Really?\n"
     ]
    }
   ],
   "source": [
    "print(\"what is your name?\", end = ' ')\n",
    "name= input()\n",
    "print(f\"Hi, {name}\")\n",
    "age = int(input(\"How old are you?\" ))\n",
    "print(f\"You are {age}? Really?\")\n"
   ]
  },
  {
   "cell_type": "code",
   "execution_count": null,
   "metadata": {},
   "outputs": [
    {
     "name": "stdout",
     "output_type": "stream",
     "text": [
      "Calculate the sample mean\n",
      "Insert the ages\n"
     ]
    }
   ],
   "source": [
    "print(\"Calculate the sample mean\")\n",
    "print(\"Insert the ages\")\n",
    "A= int(input(\"First age= \"))\n",
    "B= int(input(\"Second age= \"))\n",
    "C= int(input(\"Third age= \"))\n",
    "\n",
    "S= (A+B+C)/3\n",
    "print(S)"
   ]
  },
  {
   "cell_type": "code",
   "execution_count": null,
   "metadata": {},
   "outputs": [],
   "source": []
  }
 ],
 "metadata": {
  "kernelspec": {
   "display_name": "Python 3",
   "language": "python",
   "name": "python3"
  },
  "language_info": {
   "codemirror_mode": {
    "name": "ipython",
    "version": 3
   },
   "file_extension": ".py",
   "mimetype": "text/x-python",
   "name": "python",
   "nbconvert_exporter": "python",
   "pygments_lexer": "ipython3",
   "version": "3.6.7"
  }
 },
 "nbformat": 4,
 "nbformat_minor": 2
}
