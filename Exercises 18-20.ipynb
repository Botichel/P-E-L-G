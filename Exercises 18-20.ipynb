{
 "cells": [
  {
   "cell_type": "markdown",
   "metadata": {},
   "source": [
    "<h1>Exercise 18</h1>\n",
    "\n",
    "we can see the command \"DEF\" this help us to create user-defined functions objects."
   ]
  },
  {
   "cell_type": "code",
   "execution_count": 2,
   "metadata": {},
   "outputs": [
    {
     "name": "stdout",
     "output_type": "stream",
     "text": [
      "arg1: Luis, arg2: Marquez\n",
      "arg1: Luis, arg2: Marquez\n",
      "arg1: FIRST!\n",
      "I got nothin'.\n"
     ]
    }
   ],
   "source": [
    "def print_two(*args):\n",
    "    arg1,arg2 = args\n",
    "    print(f\"arg1: {arg1}, arg2: {arg2}\")\n",
    "    \n",
    "def print_two_again(arg1, arg2):\n",
    "    print(f\"arg1: {arg1}, arg2: {arg2}\")\n",
    "    \n",
    "def print_one(arg1):\n",
    "    print(f\"arg1: {arg1}\")\n",
    "    \n",
    "def print_none():\n",
    "    print(\"I got nothin'.\")\n",
    "    \n",
    "print_two(\"Luis\",\"Marquez\")\n",
    "print_two_again(\"Luis\",\"Marquez\")\n",
    "print_one(\"FIRST!\")\n",
    "print_none()"
   ]
  },
  {
   "cell_type": "markdown",
   "metadata": {},
   "source": [
    "<h1>Exercise 19</h1>\n",
    "\n",
    "We will see the many combinations that we can give to the funcion \"Bread_and_Ham\" using functions and variables."
   ]
  },
  {
   "cell_type": "code",
   "execution_count": 5,
   "metadata": {},
   "outputs": [
    {
     "name": "stdout",
     "output_type": "stream",
     "text": [
      "we can just give the function numbers directly: \n",
      "you have 30 Bread!\n",
      "you have 15 bags of Ham!\n",
      "It's all we need!\n",
      "OR, we can use variables rom our script: \n",
      "you have 20 Bread!\n",
      "you have 10 bags of Ham!\n",
      "It's all we need!\n",
      "We can even do math inside too: \n",
      "you have 45 Bread!\n",
      "you have 18 bags of Ham!\n",
      "It's all we need!\n",
      "and we can combine the two, variables and math: \n",
      "you have 220 Bread!\n",
      "you have 110 bags of Ham!\n",
      "It's all we need!\n"
     ]
    }
   ],
   "source": [
    "def Bread_and_Ham (Bread_count, bags_of_Ham):\n",
    "    print(f\"you have {Bread_count} Bread!\")\n",
    "    print(f\"you have {bags_of_Ham} bags of Ham!\")\n",
    "    print(\"It's all we need!\")\n",
    "    \n",
    "print(\"we can just give the function numbers directly: \")\n",
    "Bread_and_Ham(30, 15)\n",
    "\n",
    "print(\"OR, we can use variables rom our script: \")\n",
    "amount_of_Bread =20\n",
    "amount_of_Ham= 10\n",
    "\n",
    "Bread_and_Ham (amount_of_Bread, amount_of_Ham)\n",
    "\n",
    "print(\"We can even do math inside too: \")\n",
    "Bread_and_Ham (30+15, 12+6)\n",
    "\n",
    "print(\"and we can combine the two, variables and math: \")\n",
    "Bread_and_Ham(amount_of_Bread + 200, amount_of_Ham + 100)"
   ]
  },
  {
   "cell_type": "markdown",
   "metadata": {},
   "source": [
    "<h1>Exercise 20</h1>\n",
    "\n",
    "Here,it will help us to view how the checklist for functions works with functions and files"
   ]
  },
  {
   "cell_type": "code",
   "execution_count": 4,
   "metadata": {},
   "outputs": [
    {
     "name": "stdout",
     "output_type": "stream",
     "text": [
      "First we print the entire file:\n",
      "\n",
      "{\n",
      "  \"shell_port\": 60557,\n",
      "  \"iopub_port\": 58125,\n",
      "  \"stdin_port\": 37601,\n",
      "  \"control_port\": 40943,\n",
      "  \"hb_port\": 51633,\n",
      "  \"ip\": \"127.0.0.1\",\n",
      "  \"key\": \"14d9e415-f2d97a56b55adc8dccb887b6\",\n",
      "  \"transport\": \"tcp\",\n",
      "  \"signature_scheme\": \"hmac-sha256\",\n",
      "  \"kernel_name\": \"\"\n",
      "}\n",
      "Now we rewind, kind of like a tape. \n",
      "we print three lines: \n",
      "1 {\n",
      "\n",
      "2   \"shell_port\": 60557,\n",
      "\n",
      "3   \"iopub_port\": 58125,\n",
      "\n"
     ]
    }
   ],
   "source": [
    "from sys import argv\n",
    "\n",
    "script, input_file, Documentos= argv\n",
    "\n",
    "def print_all(f):\n",
    "    print(f.read())\n",
    "    \n",
    "def rewind(f):\n",
    "    f.seek(0)\n",
    "    \n",
    "def print_a_line(line_count, f):\n",
    "    print(line_count, f.readline())\n",
    "    \n",
    "current_file = open(Documentos)\n",
    "\n",
    "print(\"First we print the entire file:\\n\")\n",
    "\n",
    "print_all(current_file)\n",
    "\n",
    "print(\"Now we rewind, kind of like a tape. \")\n",
    "\n",
    "rewind(current_file)\n",
    "\n",
    "print(\"we print three lines: \")\n",
    " \n",
    "current_line = 1\n",
    "print_a_line(current_line, current_file)\n",
    "\n",
    "current_line = current_line +1\n",
    "print_a_line(current_line,current_file)\n",
    "\n",
    "current_line= current_line + 1\n",
    "print_a_line(current_line, current_file)"
   ]
  },
  {
   "cell_type": "code",
   "execution_count": null,
   "metadata": {},
   "outputs": [],
   "source": []
  }
 ],
 "metadata": {
  "kernelspec": {
   "display_name": "Python 3",
   "language": "python",
   "name": "python3"
  },
  "language_info": {
   "codemirror_mode": {
    "name": "ipython",
    "version": 3
   },
   "file_extension": ".py",
   "mimetype": "text/x-python",
   "name": "python",
   "nbconvert_exporter": "python",
   "pygments_lexer": "ipython3",
   "version": "3.6.7"
  }
 },
 "nbformat": 4,
 "nbformat_minor": 2
}
