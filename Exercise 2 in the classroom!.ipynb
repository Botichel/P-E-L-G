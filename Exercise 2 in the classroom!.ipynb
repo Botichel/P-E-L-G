{
 "cells": [
  {
   "cell_type": "markdown",
   "metadata": {},
   "source": [
    "<h1> Exercise 2 </h1>"
   ]
  },
  {
   "cell_type": "code",
   "execution_count": 1,
   "metadata": {},
   "outputs": [
    {
     "name": "stdout",
     "output_type": "stream",
     "text": [
      "How many names do you want introduce in the program?5\n",
      "Introduce the names:juan\n",
      "Introduce the names:pedro\n",
      "Introduce the names:sara\n",
      "Introduce the names:luis\n",
      "Introduce the names:eduardo\n",
      "['juan', 'pedro', 'sara', 'luis', 'eduardo']\n",
      "Choose that you prefer 4\n",
      "eduardo\n"
     ]
    }
   ],
   "source": [
    "A=int(input(\"How many names do you want introduce in the program?\"))\n",
    "name=[]\n",
    "\n",
    "for i in range (0,A) :\n",
    "    y=str(input(\"Introduce the names:\"))\n",
    "    name.append(y)\n",
    "print (name)\n",
    "\n",
    "Z=int(input(\"Choose that you prefer \"))\n",
    "if Z>=A or Z<0 :\n",
    "    print(\"If you answer is incorrect, you can write another answer\")\n",
    "    Z=int(input(\"Chosse that you prefer \"))\n",
    "    if Z>=A or Z<0 :\n",
    "        print(\"I am sorry bro, you can't put more answer: \")\n",
    "        \n",
    "        \n",
    "    else:\n",
    "        print(name[Z])\n",
    "else:\n",
    "    print(name[Z])\n",
    "    "
   ]
  }
 ],
 "metadata": {
  "kernelspec": {
   "display_name": "Python 3",
   "language": "python",
   "name": "python3"
  },
  "language_info": {
   "codemirror_mode": {
    "name": "ipython",
    "version": 3
   },
   "file_extension": ".py",
   "mimetype": "text/x-python",
   "name": "python",
   "nbconvert_exporter": "python",
   "pygments_lexer": "ipython3",
   "version": "3.6.7"
  }
 },
 "nbformat": 4,
 "nbformat_minor": 2
}
